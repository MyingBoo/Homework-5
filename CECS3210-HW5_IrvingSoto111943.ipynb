{
 "cells": [
  {
   "cell_type": "markdown",
   "metadata": {},
   "source": [
    "# CECS 3210 - Assignment 05\n",
    "\n",
    "This week coding exercises will cover topics discussed in Chapter 5, 6, 7, and 8.\n",
    "\n",
    "**Due date**: October 02 at 11:59 P.M.\n",
    "\n",
    "**Notes**: \n",
    "* All solutions are reviewed, create unique solutions and discussions. \n",
    "* All coding exercises, must HAVE validations for user input.\n",
    "* Remember  to submit your solutions on time. \n",
    "* When running graphical code, your window may be hidden under your other windows \n",
    "* When you need to place your answer, double click the text cell. After placing your answer, press *Shfit + Enter*.\n",
    "* Documentation of graphics: [graphics.pdf](https://mcsp.wartburg.edu/zelle/python/graphics/graphics.pdf)\n",
    "* Graphics library file: [graphics.py](https://mcsp.wartburg.edu/zelle/python/graphics.py)"
   ]
  },
  {
   "cell_type": "markdown",
   "metadata": {},
   "source": [
    "**Name**: REPLACE\n",
    "<br>\n",
    "**Email**: REPLACE\n",
    "<br>\n",
    "**Student number**: REPLACE"
   ]
  },
  {
   "cell_type": "code",
   "execution_count": 1,
   "metadata": {},
   "outputs": [],
   "source": [
    "# Required import for some problems. Run this cell and proceed.\n",
    "from graphics import *"
   ]
  },
  {
   "cell_type": "markdown",
   "metadata": {},
   "source": [
    "## Discussion exercises  ( I )\n",
    "\n",
    "**Optional Resource**: [String Formatting Syntax](https://realpython.com/python-f-strings/). May be helpful for String formatting exercises."
   ]
  },
  {
   "cell_type": "markdown",
   "metadata": {},
   "source": [
    "### 1. Given the initial statements:\n",
    "```python\n",
    "str_1 = \"You know nothing, \"\n",
    "str_2 = \"Jon Snow\"\n",
    "```\n",
    "Show the result of evaluating each of the following string expressions. Don't run the code, just type what should be the spected output. If you don't remember what a function does, look in to the Python documentation.<br>\n"
   ]
  },
  {
   "cell_type": "markdown",
   "metadata": {},
   "source": [
    "* A.  \n",
    "```python\n",
    "f\"Winter is coming, {str_2}\"\n",
    "#same as\n",
    "\"Winter is coming, {0}\".format(str_2)\n",
    "```\n",
    "**Expected Output**: *replace with your answer!*"
   ]
  },
  {
   "cell_type": "markdown",
   "metadata": {},
   "source": [
    "* B. \n",
    "```python\n",
    "2 * str_1 + 3 * str_2\n",
    "```\n",
    "**Expected Output**: *replace with your answer!*"
   ]
  },
  {
   "cell_type": "markdown",
   "metadata": {},
   "source": [
    "* C: \n",
    "```python\n",
    "str_1[6]\n",
    "```\n",
    "**Expected Output**: *replace with your answer!*"
   ]
  },
  {
   "cell_type": "markdown",
   "metadata": {},
   "source": [
    "* D: \n",
    "```python\n",
    "str_1 + str_2[-2]\n",
    "```\n",
    "**Expected Output**: *replace with your answer!*"
   ]
  },
  {
   "cell_type": "markdown",
   "metadata": {},
   "source": [
    "* E: \n",
    "```python\n",
    "str_2.upper()\n",
    "```\n",
    "**Expected Output**: *replace with your answer!*"
   ]
  },
  {
   "cell_type": "markdown",
   "metadata": {},
   "source": [
    "* F: \n",
    "```python\n",
    "str_1[2] + str_2[:2]\n",
    "```\n",
    "**Expected Output**: *replace with your answer!*"
   ]
  },
  {
   "cell_type": "markdown",
   "metadata": {},
   "source": [
    "* G: \n",
    "```python\n",
    "str_2.upper().ljust(4) * 2\n",
    "```\n",
    "**Expected Output**: *replace with your answer!*"
   ]
  },
  {
   "cell_type": "markdown",
   "metadata": {},
   "source": [
    "* H: \n",
    "```python\n",
    "str2.upper()[::-1]\n",
    "```\n",
    "**Expected Output**: *replace with your answer!*"
   ]
  },
  {
   "cell_type": "markdown",
   "metadata": {},
   "source": [
    "### 2. Show the string that would result from each of the following string formatting operations. **IF the operation is not legal, explain why.**"
   ]
  },
  {
   "cell_type": "markdown",
   "metadata": {},
   "source": [
    "* A: \n",
    "```python\n",
    "\"Any {1} who must say ‘I am the {0}’ is no true {0}\".format(\"king\", \"man\")\n",
    "```\n",
    "**Explanation**: *replace if necessary!*"
   ]
  },
  {
   "cell_type": "markdown",
   "metadata": {},
   "source": [
    "* B: \n",
    "```python\n",
    "\"A {3} {0} {1} his {2}.\".format( \"always\", \"pays\", \"debts\", \"Lannister\")\n",
    "```\n",
    "**Explanation**: *replace if necessary!*"
   ]
  },
  {
   "cell_type": "markdown",
   "metadata": {},
   "source": [
    "* C: \n",
    "```python\n",
    "\"Hello {0}\".format(\"Daenerys\", \"Snow\", \"Tyrion\")\n",
    "```\n",
    "**Explanation**: *replace if necessary!*"
   ]
  },
  {
   "cell_type": "markdown",
   "metadata": {},
   "source": [
    "* D: \n",
    "```python\n",
    "\"{0:0.2f} {0:0.2f}\".format(2.3, 2.3468)\n",
    "```\n",
    "**Explanation**: *replace if necessary!*"
   ]
  },
  {
   "cell_type": "markdown",
   "metadata": {},
   "source": [
    "* E: \n",
    "```python\n",
    "\"{7.5f} {7.5f}\".format(2.3, 2.3468)\n",
    "```\n",
    "**Explanation**: *replace if necessary!*"
   ]
  },
  {
   "cell_type": "markdown",
   "metadata": {},
   "source": [
    "* F: \n",
    "```python\n",
    "\"Time left {0:02}:{1:05.2f}\".format(1, 37.374)\n",
    "```\n",
    "**Explanation**: *replace if necessary!*"
   ]
  },
  {
   "cell_type": "markdown",
   "metadata": {},
   "source": [
    "* G: \n",
    "```python\n",
    "\"{1:3}\".format(\"14\")\n",
    "```\n",
    "**Explanation**: *replace if necessary!*"
   ]
  },
  {
   "cell_type": "markdown",
   "metadata": {},
   "source": [
    "### 3. *In your own words*, describe the two motivations for defining functions in your programs."
   ]
  },
  {
   "cell_type": "markdown",
   "metadata": {},
   "source": [
    "* *Motivation 1*: Replace\n"
   ]
  },
  {
   "cell_type": "markdown",
   "metadata": {},
   "source": [
    "* *Motivation 2*: Replace"
   ]
  },
  {
   "cell_type": "markdown",
   "metadata": {},
   "source": [
    "### 4. Parameters are an important concept in defining functions."
   ]
  },
  {
   "cell_type": "markdown",
   "metadata": {},
   "source": [
    "* A: What is the purpose of parameters?<br>\n",
    "  \n",
    "  **Answer:** Write here\n"
   ]
  },
  {
   "cell_type": "markdown",
   "metadata": {},
   "source": [
    "* B: What is the difference between a formal parameter and an actual parameter?<br>\n",
    "  \n",
    "  **Answer:** Write here"
   ]
  },
  {
   "cell_type": "markdown",
   "metadata": {},
   "source": [
    "* C: In what ways are parameters similar to and different from ordinary variables?<br>\n",
    "  \n",
    "  **Answer:** Write here"
   ]
  },
  {
   "cell_type": "markdown",
   "metadata": {},
   "source": [
    "### 5. Explain the following patterns **in your own words:**"
   ]
  },
  {
   "cell_type": "markdown",
   "metadata": {},
   "source": [
    "* A. simple decision<br>\n",
    "  \n",
    "  **Answer:** Write here"
   ]
  },
  {
   "cell_type": "markdown",
   "metadata": {},
   "source": [
    "* B. two-way decision<br>\n",
    "  \n",
    "  **Answer:** Write here"
   ]
  },
  {
   "cell_type": "markdown",
   "metadata": {},
   "source": [
    "* C. multi-way decision<br>\n",
    "  \n",
    "  **Answer:** Write here"
   ]
  },
  {
   "cell_type": "markdown",
   "metadata": {},
   "source": [
    "### 6. **Compare and contrast**, in your own words and examples, the following pairs of terms:"
   ]
  },
  {
   "cell_type": "markdown",
   "metadata": {},
   "source": [
    "* A: definite loop vs. indefinite loop<br>\n",
    "  \n",
    "  **Comparison & Contrast:** Write here"
   ]
  },
  {
   "cell_type": "markdown",
   "metadata": {},
   "source": [
    "* B: for loop vs. while loop<br>\n",
    "  \n",
    "  **Comparison & Contrast:** Write here"
   ]
  },
  {
   "cell_type": "markdown",
   "metadata": {},
   "source": [
    "* C: interactive loop vs. sentinel loop<br>\n",
    "  \n",
    "  **Comparison & Contrast:** Write here"
   ]
  },
  {
   "cell_type": "markdown",
   "metadata": {},
   "source": [
    "* D: sentinel loop vs. end -of-file loop<br>\n",
    "  \n",
    "  **Comparison & Contrast:** Write here"
   ]
  },
  {
   "cell_type": "markdown",
   "metadata": {},
   "source": [
    "***\n",
    "## Coding exercises  ( II )"
   ]
  },
  {
   "cell_type": "markdown",
   "metadata": {},
   "source": [
    "### Coding exercise \\#C1\n",
    "\n",
    "An acronym is a word formed by taking the first letters of the words in a\n",
    "phrase and making a word from them. For example, RAM is an acronym\n",
    "for \"random access memory.\" Write a program that allows the user to\n",
    "type in a phrase and then outputs the acronym for that phrase. Note : The\n",
    "acronym should be all uppercase, even if the words in the phrase are not\n",
    "capitalized.\n",
    "<br>\n",
    "Ex:<br>\n",
    "```python3\n",
    "Enter the phrase >> samuel matos flores\n",
    "SMF\n",
    "```"
   ]
  },
  {
   "cell_type": "code",
   "execution_count": null,
   "metadata": {},
   "outputs": [],
   "source": [
    "### Complete the algorithm (Can be solved with just 3 line of code)\n",
    "# (Can be resolved with just 1 line of code if not validation is added.)\n",
    "def generate_acronym(phrase):\n",
    "    pass"
   ]
  },
  {
   "cell_type": "code",
   "execution_count": null,
   "metadata": {},
   "outputs": [],
   "source": [
    "# DO NOT MODITY Anything below\n",
    "# (Your implematation must be able to use this with success.)\n",
    "# Hint: The generate_acronym method should return the acronym\n",
    "def main():\n",
    "    print(generate_acronym(input('Enter the phrase >> ')))    \n",
    "\n",
    "main()"
   ]
  },
  {
   "cell_type": "markdown",
   "metadata": {},
   "source": [
    "***\n",
    "### Coding exercise \\#C2\n",
    "\n",
    "A Caesar cipher is a simple substitution cipher based on the idea of shifting\n",
    "each letter of the plaintext message a fixed number (called the key) of\n",
    "positions in the alphabet. For example, if the key value is 2, the word\n",
    "\"Sourpuss\" would be encoded as \"Uqwtrwuu.\" The original message can\n",
    "be recovered by \"reencoding\" it using the negative of the key.<br><br>\n",
    "Write a program that can encode and decode Caesar ciphers. The input\n",
    "to the program will be a string of plaintext and the value of the key.\n",
    "The output will be an encoded message where each character in the original\n",
    "message is replaced by shifting it key characters in the Unicode character\n",
    "set. For example, if ch is a character in the string and key is the\n",
    "amount to shift, then the character that replaces ch can be calculated as:\n",
    "chr (ord (ch) + key). <br><br>\n",
    "    It has to deal with the\n",
    "case when we \"drop off the end\" of the alphabet.\n",
    "    Make\n",
    "sure that you use a circular shift over the entire sequence of characters in\n",
    "your alphabet string.\n",
    "<br>Ex1:<br>\n",
    "```python3\n",
    "Enter the phrase >> SamuelMatos\n",
    "Enter the key of the cipher >> 20\n",
    "\n",
    "The original phrase: SamuelMatos\n",
    "The cipher output: MugoyfGunim\n",
    "```\n",
    "\n",
    "Ex2:<br>\n",
    "```python3\n",
    "Enter the phrase >> OajsalknAujsaj\n",
    "Enter the key of the cipher >> 598\n",
    "\n",
    "The original phrase: OajsalknAujsaj\n",
    "The cipher output: OajsalknAujsaj\n",
    "```"
   ]
  },
  {
   "cell_type": "code",
   "execution_count": null,
   "metadata": {},
   "outputs": [],
   "source": [
    "def cesar_cipher(phrase, key):\n",
    "    # Hint: You need to check if the current character in the phrase is upper or lower case\n",
    "    # You may want to use % to achieve the circular behavior\n",
    "    # ASCII Values: (A-Z) = [65, 90] (a-z) = [97, 122]\n",
    "    pass"
   ]
  },
  {
   "cell_type": "code",
   "execution_count": null,
   "metadata": {},
   "outputs": [],
   "source": [
    "# Just add validation\n",
    "# (Your implematation must be able to use this with success.)\n",
    "def main():\n",
    "    \n",
    "    phrase = input(\"Enter the phrase >> \")\n",
    "    key = eval(input(\"Enter the key of the cipher >> \"))\n",
    "    \n",
    "    \n",
    "    # DO NOT MODITY Anything below\n",
    "    print(f'\\nThe original phrase: {phrase}')\n",
    "    print(f'The cipher output: {cesar_cipher(phrase, key%26)}')\n",
    "\n",
    "main()"
   ]
  },
  {
   "cell_type": "markdown",
   "metadata": {},
   "source": [
    "***\n",
    "### Coding exercise \\#C3\n",
    "Word Count. A common utility on UniX/Linux systems is a small program\n",
    "called \"wc\". This program analyzes a file to determine the number of\n",
    "lines, words, and characters contained therein. Write your own version of\n",
    "wc. The program should accept a file name as input and then print three\n",
    "numbers showing the count of lines, words, and characters in the file. <br><br>\n",
    "Your implementation must be able to catch errors while trying to opening files. Example, a file that does not exist.\n",
    "<br>Ex:<br>\n",
    "```python3\n",
    "Enter the file name >> C3-example-test.txt\n",
    "\tLines: 25\n",
    "\tWords: 602\n",
    "\tCharacters: 3229\n",
    "```"
   ]
  },
  {
   "cell_type": "code",
   "execution_count": null,
   "metadata": {},
   "outputs": [],
   "source": [
    "def wc(file_name):\n",
    "    pass"
   ]
  },
  {
   "cell_type": "code",
   "execution_count": null,
   "metadata": {},
   "outputs": [],
   "source": [
    "# DO NOT MODITY Anything below\n",
    "# (Your implematation must be able to use this with success.)\n",
    "# Hint: The wc method should return the count of lines, words, and characters.\n",
    "def main():\n",
    "    lines, words, chars = wc(input('Enter the file name >> '))\n",
    "    print(f\"\\tLines: {lines}\\n\\tWords: {words}\\n\\tCharacters: {chars}\")    \n",
    "\n",
    "main()"
   ]
  },
  {
   "cell_type": "markdown",
   "metadata": {},
   "source": [
    "***\n",
    "### Coding exercise \\#C4\n",
    "Samuel is a math teacher at Hogwarts School of Witchcraft and Wizardry. He loves to give his students multiplication\n",
    "exercises. However, he doesn’t care about the actual operation result but the unit sum of its digits.<br><br>\n",
    "At Hogwarts School of Witchcraft and Wizardry, they define the unit sum (US) of N as the unit that it is left after doing the\n",
    "sum of all the digits of a number over and over again until they get a number of exactly 1 digit. For\n",
    "example: US(976) = 9 + 7 + 6 = 22 -> 2 + 2 = 4. Another example is US(19) = 1.<br><br>\n",
    "Samuel left as an assignment to get the US of any number. In order to check if a student get the right\n",
    "answer or not, he wants to make a program that solves it fast enough, but he is too busy for doing it\n",
    "himself.<br><br>\n",
    "¿Can you help Samuel to check his homework?"
   ]
  },
  {
   "cell_type": "code",
   "execution_count": null,
   "metadata": {},
   "outputs": [],
   "source": [
    "def user_input():\n",
    "    ### Get the case value to process. It must validate wrong input\n",
    "    pass"
   ]
  },
  {
   "cell_type": "code",
   "execution_count": null,
   "metadata": {},
   "outputs": [],
   "source": [
    "def unit_sum(number):\n",
    "    pass"
   ]
  },
  {
   "cell_type": "code",
   "execution_count": null,
   "metadata": {},
   "outputs": [],
   "source": [
    "# Just add validation\n",
    "# (Your implematation must be able to use this with success.)\n",
    "def main():\n",
    "    \n",
    "    cases = eval(input(\"Enter the amount of cases >> \"))\n",
    "   \n",
    "    # DO NOT MODITY Anything below\n",
    "    for idx in range(cases):\n",
    "        print(f'{Case (idx+1): unit_sum(user_input())}')\n",
    "\n",
    "main()"
   ]
  },
  {
   "cell_type": "markdown",
   "metadata": {},
   "source": [
    "***\n",
    "### Coding exercise \\#C5\n",
    "Archery Scorer. Write a program that draws an archery target (see Programming\n",
    "Exercise 2 from Chapter 4) and allows the user to click five\n",
    "times to represent arrows shot at the target. Using five-band scoring, a\n",
    "bulls-eye (yellow) is worth 9 points and each successive ring is worth 2\n",
    "fewer points down to 1 for white. The program should output a score for\n",
    "each click and keep track of a running sum for the entire series.\n",
    "Ex:<br>\n",
    "**Image example: Target with shots (window)**\n",
    "<br>\n",
    "<img src='./images_reference/C5-example.jpg' alt='target'>\n",
    "**Console ouput example: information**\n",
    "```python3\n",
    "Hit! 9 Point\n",
    "Hit! 7 Point\n",
    "Hit! 3 Point\n",
    "Hit! 1 Point\n",
    "You missed!\n",
    "The results for the shots taken were: 20\n",
    "```"
   ]
  },
  {
   "cell_type": "code",
   "execution_count": null,
   "metadata": {},
   "outputs": [],
   "source": [
    "# DO NOT MODITY Anything below\n",
    "# (Your implematation must be able to use this with success.)\n",
    "def draw_archery_target(win):\n",
    "    win.setCoords(-5, -5, 5, 5)\n",
    "    \n",
    "    for idx, color  in enumerate(['white', 'black', 'blue', 'red', 'yellow']):\n",
    "        circle = Circle(Point(0, 0), 5-idx)\n",
    "        circle.setOutline(\"black\")\n",
    "        circle.setFill(color)\n",
    "        circle.setWidth(1)\n",
    "        circle.draw(win)"
   ]
  },
  {
   "cell_type": "code",
   "execution_count": null,
   "metadata": {},
   "outputs": [],
   "source": [
    "def shot_at(win):\n",
    "    ### Create method logic\n",
    "    pass"
   ]
  },
  {
   "cell_type": "code",
   "execution_count": null,
   "metadata": {},
   "outputs": [],
   "source": [
    "# DO NOT MODITY Anything below\n",
    "# (Your implematation must be able to use this with success.)\n",
    "def main():\n",
    "    scores = []\n",
    "    target = GraphWin()\n",
    "    draw_archery_target(target)\n",
    "    \n",
    "    for _ in range(5):\n",
    "        scores.append(shot_at(target))\n",
    "    \n",
    "    print(f\"The results for the shots taken were: {sum(scores)}\")\n",
    "    target.getMouse()\n",
    "    target.close()\n",
    "\n",
    "main()"
   ]
  },
  {
   "cell_type": "markdown",
   "metadata": {},
   "source": [
    "***\n",
    "### Coding exercise \\#C6\n",
    "Write a program that uses a while loop to determine how long it takes\n",
    "for an investment to double at a given interest rate. The input will be an\n",
    "annualized interest rate, and the output is the number of years it takes an\n",
    "investment to double. Note: The amount of the initial investment does not\n",
    "matter; you can use $ 1.\n",
    "<br>Ex1:<br>\n",
    "\n",
    "```python3\n",
    "What is the annualized interest rate? 60\n",
    "What is the initial principal? 50\n",
    "The amount of years to get double the initial amount are 2\n",
    "The final principal is $ 128.00 \n",
    "```\n",
    "\n",
    "\n",
    "Ex2:\n",
    "```python3\n",
    "What is the annualized interest rate? 7\n",
    "What is the initial principal? 700\n",
    "The amount of years to get double the initial amount are 11\n",
    "The final principal is $ 1473.40 \n",
    "```"
   ]
  },
  {
   "cell_type": "code",
   "execution_count": null,
   "metadata": {},
   "outputs": [],
   "source": [
    "def calculate_details(apr, principal):\n",
    "    ### Create method logic\n",
    "    pass"
   ]
  },
  {
   "cell_type": "code",
   "execution_count": null,
   "metadata": {},
   "outputs": [],
   "source": [
    "# Just add validation\n",
    "# (Your implematation must be able to use this with success.)\n",
    "def main():\n",
    "    apr = eval(input(\"What is the annualized interest rate? \")) * .01\n",
    "    principal = eval(input(\"What is the initial principal? \"))\n",
    "    \n",
    "    \n",
    "    # DO NOT MODITY Anything below\n",
    "    years, final_principal = calculate_details(apr, principal)\n",
    "    print(f'The amount of years to get double the initial amount are {years}')\n",
    "    print(f'The final principal is $ {\"%.2f\" % final_principal} ')\n",
    "\n",
    "main()"
   ]
  },
  {
   "cell_type": "markdown",
   "metadata": {},
   "source": [
    "***\n",
    "### Coding exercise \\#C7\n",
    "The Syracuse (also called \"Collatz\" or \"Hailstone\") sequence is generated\n",
    "by starting with a natural number and repeatedly applying the following\n",
    "function until reaching 1:<br>\n",
    "$$ syr(x) = \\begin{cases} \n",
    "                x/2 &\\text{if x is even}\\\\\n",
    "                3x + 1 &\\text{if x is odd}\n",
    "            \\end{cases}$$\n",
    "<br>\n",
    "For example, the Syracuse sequence starting with 5 is: 5, 16, 8, 4, 2, 1. It is\n",
    "an open question in mathematics whether this sequence will always go to\n",
    "1 for every possible starting value.\n",
    "Write a program that gets a starting value from the user and then prints\n",
    "the Syracuse sequence for that starting value.\n",
    "<br>\n",
    "Ex1: <br>\n",
    "```python3\n",
    "Input a natural number: 5\n",
    "5\n",
    "16\n",
    "8.0\n",
    "4.0\n",
    "2.0\n",
    "1.0\n",
    "```\n",
    "\n",
    "\n",
    "Ex2: \n",
    "```python3\n",
    "Input a natural number: S\n",
    "Error! Input must be a natural number. Try again...\n",
    "\n",
    "Input a natural number: 10\n",
    "10\n",
    "5.0\n",
    "16.0\n",
    "8.0\n",
    "4.0\n",
    "2.0\n",
    "1.0\n",
    "```"
   ]
  },
  {
   "cell_type": "code",
   "execution_count": null,
   "metadata": {},
   "outputs": [],
   "source": [
    "def syr(x):\n",
    "    ### Create method logic\n",
    "    pass"
   ]
  },
  {
   "cell_type": "code",
   "execution_count": null,
   "metadata": {},
   "outputs": [],
   "source": [
    "def main():\n",
    "    pass\n",
    "    ### Replace with your own code here\n",
    "    # Use the above method signature.\n",
    "    # It must validate user input\n",
    "main()"
   ]
  },
  {
   "cell_type": "markdown",
   "metadata": {},
   "source": [
    "***\n",
    "### Coding exercise #C8\n",
    "Write a program that converts a color image to grayscale. The user supplies\n",
    "the name of a file containing a GIF or PPM image, and the program\n",
    "loads the image and displays the file. At the click of the mouse, the program\n",
    "converts the image to grayscale. The user is then prompted for a file\n",
    "name to store the grayscale image in."
   ]
  },
  {
   "cell_type": "code",
   "execution_count": null,
   "metadata": {},
   "outputs": [],
   "source": [
    "### Create method to use "
   ]
  },
  {
   "cell_type": "code",
   "execution_count": null,
   "metadata": {},
   "outputs": [],
   "source": [
    "def main():\n",
    "    ### Replace with your own code here\n",
    "    # Create the method above like previous exercises\n",
    "    pass\n",
    "    \n",
    "main()"
   ]
  },
  {
   "cell_type": "markdown",
   "metadata": {},
   "source": [
    "***\n",
    "### Coding exercise \\#C9\n",
    "Use your drawFace function from the previous exercise to write a photo\n",
    "anonymizer. This program allows a user to load an image file (such as a\n",
    "PPM or GIF) and to draw cartoon faces over the top of existing faces in the\n",
    "photo. The user first inputs the name of the file containing the image. The\n",
    "image is displayed and the user is asked how many faces are to be blocked.\n",
    "The program then enters a loop for the user to click on two points for each\n",
    "face: the center and somewhere on the edge of the face (to determine the\n",
    "size of the face) . The program should then draw a face in that location\n",
    "using the drawFace function.\n",
    "<br><br>\n",
    "Hints: Section 4.8.4 describes the image-manipulation methods in the\n",
    "graphics library. Display the image centered in a GraphWin that is the same\n",
    "width and height as the image, and draw the graphics into this window.\n",
    "You can use a screen capture utility to save the resulting images."
   ]
  },
  {
   "cell_type": "code",
   "execution_count": null,
   "metadata": {},
   "outputs": [],
   "source": [
    "### Create method to use"
   ]
  },
  {
   "cell_type": "code",
   "execution_count": null,
   "metadata": {},
   "outputs": [],
   "source": [
    "def main():\n",
    "    ### Replace with your own code here\n",
    "    pass\n",
    "\n",
    "main()"
   ]
  }
 ],
 "metadata": {
  "hide_input": false,
  "kernelspec": {
   "display_name": "Python 3",
   "language": "python",
   "name": "python3"
  },
  "language_info": {
   "codemirror_mode": {
    "name": "ipython",
    "version": 3
   },
   "file_extension": ".py",
   "mimetype": "text/x-python",
   "name": "python",
   "nbconvert_exporter": "python",
   "pygments_lexer": "ipython3",
   "version": "3.7.1"
  }
 },
 "nbformat": 4,
 "nbformat_minor": 4
}
